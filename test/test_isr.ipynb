{
 "cells": [
  {
   "cell_type": "code",
   "execution_count": null,
   "id": "regulated-belle",
   "metadata": {},
   "outputs": [],
   "source": [
    "import numpy as np\n",
    "import tensorflow as tf\n",
    "\n",
    "from utils.datahandler import DataHandler\n",
    "import matplotlib.pyplot as plt\n",
    "\n",
    "from models import  RRDN, Discriminator, VGG_Features\n",
    "\n",
    "from train import PreTrainer\n",
    "from train import GANTrainer\n"
   ]
  },
  {
   "cell_type": "code",
   "execution_count": null,
   "id": "global-cigarette",
   "metadata": {},
   "outputs": [],
   "source": [
    "BASE_PATH = '/media/nvme0/home/aslan/workspace/SR/DIV2K/'\n",
    "\n",
    "TRAIN_HR_PATH = BASE_PATH + 'DIV2K_train_HR/'\n",
    "TRAIN_LR_PATH = BASE_PATH + 'DIV2K_train_LR_bicubic/X4/'\n",
    "VALID_HR_PATH = BASE_PATH + 'DIV2K_valid_HR/'\n",
    "VALID_LR_PATH = BASE_PATH + 'DIV2K_valid_LR_bicubic/X4/'\n",
    "\n",
    "patch_size = 128\n",
    "\n",
    "#block2_conv2, layer 5, mean 1.0\n",
    "#block5_conv4, layer 20, mean 0.01\n",
    "\n",
    "#feature_layers = [5, 20]\n",
    "feature_layers = [5]"
   ]
  },
  {
   "cell_type": "code",
   "execution_count": null,
   "id": "spatial-journal",
   "metadata": {},
   "outputs": [],
   "source": [
    "#sys.path.append('..')\n",
    "\n",
    "generator = RRDN(arch_params={'C':4, 'D':2, 'G':64, 'G0':64, 'T':8, 'x':4}, patch_size = patch_size)\n",
    "\n",
    "discriminator = Discriminator(patch_size = patch_size * 4)\n",
    "\n",
    "vgg_perception = VGG_Features(patch_size = patch_size * 4, layers_to_extract = feature_layers)\n",
    "\n",
    "print(generator.arch_name)"
   ]
  },
  {
   "cell_type": "code",
   "execution_count": null,
   "id": "pressed-computer",
   "metadata": {},
   "outputs": [],
   "source": [
    "pre_trainer = PreTrainer(\n",
    "    generator = generator,\n",
    "    discriminator = discriminator,\n",
    "    feature_extractor = vgg_perception,\n",
    "    lr_train_dir = TRAIN_LR_PATH,\n",
    "    hr_train_dir = TRAIN_HR_PATH,\n",
    "    lr_valid_dir = VALID_LR_PATH,\n",
    "    hr_valid_dir = VALID_HR_PATH,\n",
    "    n_validation = 100\n",
    ")\n",
    "\n",
    "pre_trainer.train(2, 100, 2)\n",
    "\n",
    "#pre_trainer.generator.model.save_weights('pre_generator.h5')\n",
    "pre_trainer.save_best_weights('pre_generator_')"
   ]
  },
  {
   "cell_type": "code",
   "execution_count": null,
   "id": "serial-vertex",
   "metadata": {},
   "outputs": [],
   "source": [
    "gan_trainer = GANTrainer(\n",
    "    generator = generator,\n",
    "    discriminator = discriminator,\n",
    "    feature_extractor = vgg_perception,\n",
    "    lr_train_dir = TRAIN_LR_PATH,\n",
    "    hr_train_dir = TRAIN_HR_PATH,\n",
    "    lr_valid_dir = VALID_LR_PATH,\n",
    "    hr_valid_dir = VALID_HR_PATH,\n",
    "    n_validation = 100,\n",
    "    loss_weights = {'generator': 0.0, 'discriminator': 0.1, 'feature_extractor': 1.0}\n",
    ")\n",
    "\n",
    "gan_trainer.generator.model.load_weights('pre_generator_' + generator.arch_name + '.h5')\n",
    "\n",
    "gan_trainer.train(160, 500, 2)\n",
    "\n",
    "#gan_trainer.generator.model.save_weights('esrgan_generator.h5')\n",
    "gan_trainer.save_best_weights('gan_generator_')"
   ]
  },
  {
   "cell_type": "code",
   "execution_count": null,
   "id": "varying-reynolds",
   "metadata": {},
   "outputs": [],
   "source": [
    "#gan_trainer.generator.model.save_weights('esrgan_generator.h5')\n",
    "for item in vgg_perception.model.layers:\n",
    "    print(item.name)"
   ]
  },
  {
   "cell_type": "code",
   "execution_count": null,
   "id": "referenced-airport",
   "metadata": {},
   "outputs": [],
   "source": []
  }
 ],
 "metadata": {
  "kernelspec": {
   "display_name": "Python 3",
   "language": "python",
   "name": "python3"
  },
  "language_info": {
   "codemirror_mode": {
    "name": "ipython",
    "version": 3
   },
   "file_extension": ".py",
   "mimetype": "text/x-python",
   "name": "python",
   "nbconvert_exporter": "python",
   "pygments_lexer": "ipython3",
   "version": "3.8.5"
  }
 },
 "nbformat": 4,
 "nbformat_minor": 5
}
