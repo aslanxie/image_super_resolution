{
 "cells": [
  {
   "cell_type": "code",
   "execution_count": null,
   "id": "mighty-stage",
   "metadata": {},
   "outputs": [],
   "source": [
    "from time import time\n",
    "import numpy as np\n",
    "import tensorflow as tf\n",
    "\n",
    "import matplotlib.pyplot as plt\n",
    "\n",
    "from models import  RRDN"
   ]
  },
  {
   "cell_type": "code",
   "execution_count": null,
   "id": "ahead-racing",
   "metadata": {},
   "outputs": [],
   "source": [
    "BASE_PATH = '/media/nvme0/home/aslan/workspace/SR/DIV2K/'\n",
    "\n",
    "TRAIN_HR_PATH = BASE_PATH + 'DIV2K_train_HR/'\n",
    "TRAIN_LR_PATH = BASE_PATH + 'DIV2K_train_LR_bicubic/X4/'\n",
    "VALID_HR_PATH = BASE_PATH + 'DIV2K_valid_HR/'\n",
    "VALID_LR_PATH = BASE_PATH + 'DIV2K_valid_LR_bicubic/X4/'\n",
    "\n",
    "VALID_OUPUT_PATH = '/media/nvme0/home/aslan/workspace/SR/sr_out/'\n"
   ]
  },
  {
   "cell_type": "code",
   "execution_count": null,
   "id": "bulgarian-cycling",
   "metadata": {},
   "outputs": [],
   "source": [
    "sr_model = RRDN(arch_params={'C':4, 'D':2, 'G':64, 'G0':64, 'T':8, 'x':4})\n",
    "sr_model.model.load_weights('gan_generator_arch_rrdn_C4_D2_G64_G064_T8x4.h5')\n",
    "\n",
    "for idx in range(100):\n",
    "    filename = VALID_LR_PATH + '{:04}x4.png'.format(idx + 801)\n",
    "    outname = VALID_OUPUT_PATH + 'sr_x4_{:04}.png'.format(idx + 801)\n",
    "    data = tf.io.read_file(filename)\n",
    "    image = tf.io.decode_image(data)\n",
    "    image = tf.image.convert_image_dtype(image, tf.float32)\n",
    "    #print(image)\n",
    "    start = time()\n",
    "    sr_image = sr_model.predict(image)\n",
    "    elapsed_time = time() - start\n",
    "    #print(sr_image)\n",
    "    print('{} took {:10.3f}s'.format( outname, elapsed_time))\n",
    "    #plt.figure(figsize = [16, 16])\n",
    "    #plt.imshow(sr_image)\n",
    "    sr_image = tf.image.convert_image_dtype(sr_image, tf.uint8)\n",
    "    enc_image = tf.io.encode_png(sr_image, compression=0)\n",
    "    tf.io.write_file(outname, enc_image)\n",
    "    \n",
    "    #psnr\n",
    "    #hr_img_name = VALID_HR_PATH + '{:04}.png'.format(idx + 801)\n",
    "    #data = tf.io.read_file(hr_img_name)\n",
    "    #image = tf.io.decode_image(data)\n",
    "    #image = tf.image.convert_image_dtype(image, tf.float32)\n",
    "    #psnr = tf.image.psnr(sr_image, image, max_val=1.0)\n",
    "    #print(f'{hr_img_name} psnr {psnr}')"
   ]
  },
  {
   "cell_type": "code",
   "execution_count": null,
   "id": "considered-offering",
   "metadata": {},
   "outputs": [],
   "source": []
  }
 ],
 "metadata": {
  "kernelspec": {
   "display_name": "Python 3",
   "language": "python",
   "name": "python3"
  },
  "language_info": {
   "codemirror_mode": {
    "name": "ipython",
    "version": 3
   },
   "file_extension": ".py",
   "mimetype": "text/x-python",
   "name": "python",
   "nbconvert_exporter": "python",
   "pygments_lexer": "ipython3",
   "version": "3.8.5"
  }
 },
 "nbformat": 4,
 "nbformat_minor": 5
}
